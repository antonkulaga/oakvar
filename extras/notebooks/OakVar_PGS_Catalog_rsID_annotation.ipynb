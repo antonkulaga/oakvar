{
 "cells": [
  {
   "cell_type": "markdown",
   "id": "75290093-c020-4249-aef9-6d36e25faced",
   "metadata": {},
   "source": [
    "# OakVar - Python Script Integration Example: adding rsID to Polygenic Risk Score Catalog data"
   ]
  },
  {
   "cell_type": "markdown",
   "id": "39f9837c-f7ba-40f4-892c-65956ad21ea0",
   "metadata": {},
   "source": [
    "## Setup"
   ]
  },
  {
   "cell_type": "code",
   "execution_count": 1,
   "id": "eb2422cc-9f01-4aa7-a615-7bb31d190b1c",
   "metadata": {},
   "outputs": [],
   "source": [
    "import oakvar as ov\n",
    "import pandas as pd"
   ]
  },
  {
   "cell_type": "markdown",
   "id": "19723b53-2ef0-4fde-a005-33f0f48253b5",
   "metadata": {},
   "source": [
    "### Load dbSNP annotation module and define a helper function"
   ]
  },
  {
   "cell_type": "code",
   "execution_count": 2,
   "id": "82409e39-c489-45ba-916c-225cd16dd0b0",
   "metadata": {},
   "outputs": [],
   "source": [
    "try:\n",
    "    dbsnp_m = ov.get_annotator(\"dbsnp\")  # next release\n",
    "except:\n",
    "    dbsnp_m = ov.get_live_annotator(\"dbsnp\")  # current release"
   ]
  },
  {
   "cell_type": "code",
   "execution_count": 3,
   "id": "2e19f1d2-95fe-4df0-8952-2d2fad0ab3b6",
   "metadata": {},
   "outputs": [],
   "source": [
    "def get_rsid(row):\n",
    "    data = dbsnp_m.annotate(\n",
    "        {\n",
    "            \"chrom\": \"chr\" + row[\"hm_chr\"],\n",
    "            \"pos\": row[\"hm_pos\"],\n",
    "            \"ref_base\": row[\"other_allele\"],\n",
    "            \"alt_base\": row[\"effect_allele\"],\n",
    "        }\n",
    "    )\n",
    "    if not data:\n",
    "        return data\n",
    "    else:\n",
    "        return data[\"rsid\"]"
   ]
  },
  {
   "cell_type": "markdown",
   "id": "86bd77ca-7470-4972-b142-73a994a2dfeb",
   "metadata": {},
   "source": [
    "### Load PGS data"
   ]
  },
  {
   "cell_type": "code",
   "execution_count": 4,
   "id": "64112476-9532-4878-b89d-3fa25ac25528",
   "metadata": {},
   "outputs": [],
   "source": [
    "df = pd.read_csv(\"PGS002724_hmPOS_GRCh38.txt\", sep=\"\\t\", header=19, low_memory=False)"
   ]
  },
  {
   "cell_type": "markdown",
   "id": "a0480fd5-5776-4834-9544-69dc093afdd7",
   "metadata": {},
   "source": [
    "#### Drop the rows which cannot be queried by dbSNP"
   ]
  },
  {
   "cell_type": "code",
   "execution_count": 5,
   "id": "67a2c8db-5c6a-4abf-af70-db2923f97f05",
   "metadata": {},
   "outputs": [],
   "source": [
    "df = df[~df[\"hm_pos\"].isna()]"
   ]
  },
  {
   "cell_type": "markdown",
   "id": "50810fd7-559f-41c3-894e-d35983da0b03",
   "metadata": {},
   "source": [
    "## Add rsID"
   ]
  },
  {
   "cell_type": "markdown",
   "id": "9c9606ef-ef04-4610-89a8-4c8d688be1f2",
   "metadata": {},
   "source": [
    "> Testing with the first 1000 rows"
   ]
  },
  {
   "cell_type": "code",
   "execution_count": 6,
   "id": "d3451080-f7ff-4a3e-9ece-f5ed16ee313b",
   "metadata": {},
   "outputs": [],
   "source": [
    "df_head = df.head(1000).copy()"
   ]
  },
  {
   "cell_type": "code",
   "execution_count": 7,
   "id": "700c9d5d-78f6-4006-8c73-7c4313d41db9",
   "metadata": {},
   "outputs": [],
   "source": [
    "df_head[\"hm_rsID\"] = df_head.apply(lambda row: get_rsid(row), axis=1)"
   ]
  },
  {
   "cell_type": "code",
   "execution_count": 8,
   "id": "90476dfb-5366-4ce7-b96f-6bdde003dc06",
   "metadata": {},
   "outputs": [
    {
     "data": {
      "text/html": [
       "<div>\n",
       "<style scoped>\n",
       "    .dataframe tbody tr th:only-of-type {\n",
       "        vertical-align: middle;\n",
       "    }\n",
       "\n",
       "    .dataframe tbody tr th {\n",
       "        vertical-align: top;\n",
       "    }\n",
       "\n",
       "    .dataframe thead th {\n",
       "        text-align: right;\n",
       "    }\n",
       "</style>\n",
       "<table border=\"1\" class=\"dataframe\">\n",
       "  <thead>\n",
       "    <tr style=\"text-align: right;\">\n",
       "      <th></th>\n",
       "      <th>chr_name</th>\n",
       "      <th>chr_position</th>\n",
       "      <th>effect_allele</th>\n",
       "      <th>other_allele</th>\n",
       "      <th>effect_weight</th>\n",
       "      <th>hm_source</th>\n",
       "      <th>hm_rsID</th>\n",
       "      <th>hm_chr</th>\n",
       "      <th>hm_pos</th>\n",
       "      <th>hm_inferOtherAllele</th>\n",
       "    </tr>\n",
       "  </thead>\n",
       "  <tbody>\n",
       "    <tr>\n",
       "      <th>0</th>\n",
       "      <td>1</td>\n",
       "      <td>752721</td>\n",
       "      <td>G</td>\n",
       "      <td>A</td>\n",
       "      <td>50.200914</td>\n",
       "      <td>liftover</td>\n",
       "      <td>rs3131972</td>\n",
       "      <td>1</td>\n",
       "      <td>817341.0</td>\n",
       "      <td>NaN</td>\n",
       "    </tr>\n",
       "    <tr>\n",
       "      <th>1</th>\n",
       "      <td>1</td>\n",
       "      <td>754182</td>\n",
       "      <td>G</td>\n",
       "      <td>A</td>\n",
       "      <td>141.073654</td>\n",
       "      <td>liftover</td>\n",
       "      <td>rs3131969</td>\n",
       "      <td>1</td>\n",
       "      <td>818802.0</td>\n",
       "      <td>NaN</td>\n",
       "    </tr>\n",
       "    <tr>\n",
       "      <th>2</th>\n",
       "      <td>1</td>\n",
       "      <td>760912</td>\n",
       "      <td>T</td>\n",
       "      <td>C</td>\n",
       "      <td>180.556537</td>\n",
       "      <td>liftover</td>\n",
       "      <td>rs1048488</td>\n",
       "      <td>1</td>\n",
       "      <td>825532.0</td>\n",
       "      <td>NaN</td>\n",
       "    </tr>\n",
       "    <tr>\n",
       "      <th>3</th>\n",
       "      <td>1</td>\n",
       "      <td>768448</td>\n",
       "      <td>A</td>\n",
       "      <td>G</td>\n",
       "      <td>-74.643825</td>\n",
       "      <td>liftover</td>\n",
       "      <td>rs12562034</td>\n",
       "      <td>1</td>\n",
       "      <td>833068.0</td>\n",
       "      <td>NaN</td>\n",
       "    </tr>\n",
       "    <tr>\n",
       "      <th>4</th>\n",
       "      <td>1</td>\n",
       "      <td>779322</td>\n",
       "      <td>G</td>\n",
       "      <td>A</td>\n",
       "      <td>-137.024959</td>\n",
       "      <td>liftover</td>\n",
       "      <td>rs4040617</td>\n",
       "      <td>1</td>\n",
       "      <td>843942.0</td>\n",
       "      <td>NaN</td>\n",
       "    </tr>\n",
       "    <tr>\n",
       "      <th>...</th>\n",
       "      <td>...</td>\n",
       "      <td>...</td>\n",
       "      <td>...</td>\n",
       "      <td>...</td>\n",
       "      <td>...</td>\n",
       "      <td>...</td>\n",
       "      <td>...</td>\n",
       "      <td>...</td>\n",
       "      <td>...</td>\n",
       "      <td>...</td>\n",
       "    </tr>\n",
       "    <tr>\n",
       "      <th>995</th>\n",
       "      <td>1</td>\n",
       "      <td>3394250</td>\n",
       "      <td>T</td>\n",
       "      <td>C</td>\n",
       "      <td>22.337444</td>\n",
       "      <td>liftover</td>\n",
       "      <td>rs10909948</td>\n",
       "      <td>1</td>\n",
       "      <td>3477686.0</td>\n",
       "      <td>NaN</td>\n",
       "    </tr>\n",
       "    <tr>\n",
       "      <th>996</th>\n",
       "      <td>1</td>\n",
       "      <td>3395039</td>\n",
       "      <td>A</td>\n",
       "      <td>G</td>\n",
       "      <td>-67.771429</td>\n",
       "      <td>liftover</td>\n",
       "      <td>rs10797395</td>\n",
       "      <td>1</td>\n",
       "      <td>3478475.0</td>\n",
       "      <td>NaN</td>\n",
       "    </tr>\n",
       "    <tr>\n",
       "      <th>997</th>\n",
       "      <td>1</td>\n",
       "      <td>3400294</td>\n",
       "      <td>T</td>\n",
       "      <td>G</td>\n",
       "      <td>-21.663690</td>\n",
       "      <td>liftover</td>\n",
       "      <td>rs2493314</td>\n",
       "      <td>1</td>\n",
       "      <td>3483730.0</td>\n",
       "      <td>NaN</td>\n",
       "    </tr>\n",
       "    <tr>\n",
       "      <th>998</th>\n",
       "      <td>1</td>\n",
       "      <td>3404227</td>\n",
       "      <td>T</td>\n",
       "      <td>C</td>\n",
       "      <td>232.051664</td>\n",
       "      <td>liftover</td>\n",
       "      <td>rs2821041</td>\n",
       "      <td>1</td>\n",
       "      <td>3487663.0</td>\n",
       "      <td>NaN</td>\n",
       "    </tr>\n",
       "    <tr>\n",
       "      <th>999</th>\n",
       "      <td>1</td>\n",
       "      <td>3405296</td>\n",
       "      <td>C</td>\n",
       "      <td>T</td>\n",
       "      <td>360.731189</td>\n",
       "      <td>liftover</td>\n",
       "      <td>rs4648505</td>\n",
       "      <td>1</td>\n",
       "      <td>3488732.0</td>\n",
       "      <td>NaN</td>\n",
       "    </tr>\n",
       "  </tbody>\n",
       "</table>\n",
       "<p>1000 rows × 10 columns</p>\n",
       "</div>"
      ],
      "text/plain": [
       "     chr_name  chr_position effect_allele other_allele  effect_weight  \\\n",
       "0           1        752721             G            A      50.200914   \n",
       "1           1        754182             G            A     141.073654   \n",
       "2           1        760912             T            C     180.556537   \n",
       "3           1        768448             A            G     -74.643825   \n",
       "4           1        779322             G            A    -137.024959   \n",
       "..        ...           ...           ...          ...            ...   \n",
       "995         1       3394250             T            C      22.337444   \n",
       "996         1       3395039             A            G     -67.771429   \n",
       "997         1       3400294             T            G     -21.663690   \n",
       "998         1       3404227             T            C     232.051664   \n",
       "999         1       3405296             C            T     360.731189   \n",
       "\n",
       "    hm_source     hm_rsID hm_chr     hm_pos  hm_inferOtherAllele  \n",
       "0    liftover   rs3131972      1   817341.0                  NaN  \n",
       "1    liftover   rs3131969      1   818802.0                  NaN  \n",
       "2    liftover   rs1048488      1   825532.0                  NaN  \n",
       "3    liftover  rs12562034      1   833068.0                  NaN  \n",
       "4    liftover   rs4040617      1   843942.0                  NaN  \n",
       "..        ...         ...    ...        ...                  ...  \n",
       "995  liftover  rs10909948      1  3477686.0                  NaN  \n",
       "996  liftover  rs10797395      1  3478475.0                  NaN  \n",
       "997  liftover   rs2493314      1  3483730.0                  NaN  \n",
       "998  liftover   rs2821041      1  3487663.0                  NaN  \n",
       "999  liftover   rs4648505      1  3488732.0                  NaN  \n",
       "\n",
       "[1000 rows x 10 columns]"
      ]
     },
     "execution_count": 8,
     "metadata": {},
     "output_type": "execute_result"
    }
   ],
   "source": [
    "df_head"
   ]
  }
 ],
 "metadata": {
  "kernelspec": {
   "display_name": "Python 3 (ipykernel)",
   "language": "python",
   "name": "python3"
  },
  "language_info": {
   "codemirror_mode": {
    "name": "ipython",
    "version": 3
   },
   "file_extension": ".py",
   "mimetype": "text/x-python",
   "name": "python",
   "nbconvert_exporter": "python",
   "pygments_lexer": "ipython3",
   "version": "3.8.13"
  }
 },
 "nbformat": 4,
 "nbformat_minor": 5
}
